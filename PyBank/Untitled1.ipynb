{
 "cells": [
  {
   "cell_type": "code",
   "execution_count": 2,
   "metadata": {},
   "outputs": [],
   "source": [
    "import csv\n",
    "import sys"
   ]
  },
  {
   "cell_type": "code",
   "execution_count": 3,
   "metadata": {},
   "outputs": [
    {
     "ename": "FileNotFoundError",
     "evalue": "[Errno 2] No such file or directory: 'election_data.csv'",
     "output_type": "error",
     "traceback": [
      "\u001b[1;31m---------------------------------------------------------------------------\u001b[0m",
      "\u001b[1;31mFileNotFoundError\u001b[0m                         Traceback (most recent call last)",
      "\u001b[1;32m<ipython-input-3-ff67ecb8b50b>\u001b[0m in \u001b[0;36m<module>\u001b[1;34m()\u001b[0m\n\u001b[1;32m----> 1\u001b[1;33m \u001b[1;32mwith\u001b[0m \u001b[0mopen\u001b[0m\u001b[1;33m(\u001b[0m\u001b[1;34m'election_data.csv'\u001b[0m\u001b[1;33m)\u001b[0m \u001b[1;32mas\u001b[0m \u001b[0mcsvfile\u001b[0m\u001b[1;33m:\u001b[0m\u001b[1;33m\u001b[0m\u001b[0m\n\u001b[0m\u001b[0;32m      2\u001b[0m     \u001b[0mdata\u001b[0m \u001b[1;33m=\u001b[0m \u001b[0mcsv\u001b[0m\u001b[1;33m.\u001b[0m\u001b[0mreader\u001b[0m\u001b[1;33m(\u001b[0m\u001b[0mcsvfile\u001b[0m\u001b[1;33m,\u001b[0m \u001b[0mdelimiter\u001b[0m\u001b[1;33m=\u001b[0m\u001b[1;34m','\u001b[0m\u001b[1;33m)\u001b[0m\u001b[1;33m\u001b[0m\u001b[0m\n\u001b[0;32m      3\u001b[0m     \u001b[0mdatalist\u001b[0m\u001b[1;33m=\u001b[0m\u001b[0mlist\u001b[0m\u001b[1;33m(\u001b[0m\u001b[0mdata\u001b[0m\u001b[1;33m)\u001b[0m\u001b[1;33m\u001b[0m\u001b[0m\n",
      "\u001b[1;31mFileNotFoundError\u001b[0m: [Errno 2] No such file or directory: 'election_data.csv'"
     ]
    }
   ],
   "source": [
    "with open('election_data.csv') as csvfile:\n",
    "    data = csv.reader(csvfile, delimiter=',')\n",
    "    datalist=list(data)"
   ]
  },
  {
   "cell_type": "code",
   "execution_count": null,
   "metadata": {},
   "outputs": [],
   "source": [
    "import csv\n",
    "\n",
    "with open('election_data.csv') as csvfile:\n",
    "    data = csv.reader(csvfile, delimiter=',')\n",
    "    dataList = list(data)\n",
    "\n",
    "sumOfVotes = 0\n",
    "candidates = {}\n",
    "dataList.pop(0)\n",
    "\n",
    "for entry in dataList:\n",
    "    candidate = entry[2]\n",
    "    sumOfVotes = sumOfVotes + 1\n",
    "    if not (candidates.has_key(candidate)):\n",
    "        candidates[candidate] = 0\n",
    "    else:\n",
    "        candidates[candidate] = candidates[candidate] + 1\n",
    "\n",
    "winner = max(candidates.iterkeys(), key=(lambda key: candidates[key]))\n",
    "\n",
    "# for candidate in candidates:\n",
    "#     if candidate[1] > winner[1]:\n",
    "#         winner = candidate\n",
    "work = {}\n",
    "for candidate in candidates:\n",
    "    work[candidate] = round(float(candidates[candidate])/sumOfVotes*100)\n",
    "\n",
    "print(\"Election Results\")\n",
    "print(\"-------------------------\")\n",
    "print(\"Total Votes: \"+ str(sumOfVotes))\n",
    "print(\"-------------------------\")\n",
    "while(len(work) != 0):\n",
    "    candidate = max(work.iterkeys(), key=(lambda key: work[key]))\n",
    "    print(candidate + \": \" + str(round(float(candidates[candidate]) / sumOfVotes * 100)) + \"% (\" + str(candidates[candidate]) + \")\")\n",
    "    work.pop(candidate)\n",
    "print(\"-------------------------\")\n",
    "print(\"Winner: \"+winner)\n",
    "print(\"-------------------------\")"
   ]
  },
  {
   "cell_type": "code",
   "execution_count": null,
   "metadata": {},
   "outputs": [],
   "source": []
  },
  {
   "cell_type": "code",
   "execution_count": null,
   "metadata": {},
   "outputs": [],
   "source": []
  }
 ],
 "metadata": {
  "kernelspec": {
   "display_name": "Python 3",
   "language": "python",
   "name": "python3"
  },
  "language_info": {
   "codemirror_mode": {
    "name": "ipython",
    "version": 3
   },
   "file_extension": ".py",
   "mimetype": "text/x-python",
   "name": "python",
   "nbconvert_exporter": "python",
   "pygments_lexer": "ipython3",
   "version": "3.7.0"
  }
 },
 "nbformat": 4,
 "nbformat_minor": 2
}
